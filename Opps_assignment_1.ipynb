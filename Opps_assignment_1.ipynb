{
 "cells": [
  {
   "cell_type": "markdown",
   "id": "efaab33c-6668-49e0-ac2b-de568ce4324e",
   "metadata": {},
   "source": [
    "1-class is a blue print of an object whereas an object is the instance of a class \n",
    "for example:\n",
    "suppose we have a car ,the basic funtions of a car is called class ie structure,engine,brake,etc\n",
    "the color ,price all are object\n"
   ]
  },
  {
   "cell_type": "code",
   "execution_count": 9,
   "id": "0d00ce99-a911-462e-9be1-a2575a7054fc",
   "metadata": {},
   "outputs": [
    {
     "name": "stdout",
     "output_type": "stream",
     "text": [
      "Audi\n"
     ]
    }
   ],
   "source": [
    "class car():\n",
    "    def name_of_car(self,name):\n",
    "        self.name=name\n",
    "obj=car() \n",
    "obj.name_of_car(\"Audi\")\n",
    "print(obj.name)"
   ]
  },
  {
   "cell_type": "markdown",
   "id": "ba7495bb-3d5a-4374-bb35-828cc0cb1ea5",
   "metadata": {},
   "source": [
    "2-The four pillars of OOPs: inheritance,encasulation,abstraction and polymorphism"
   ]
  },
  {
   "cell_type": "markdown",
   "id": "d5956cec-12b8-4c66-8152-e992dcb7a230",
   "metadata": {},
   "source": [
    "3- __init__ function is used to initialize the object's attributes with default or user-provided values.\n",
    "  It allows passing parameters during object creation."
   ]
  },
  {
   "cell_type": "code",
   "execution_count": 11,
   "id": "d4392df1-fece-43cc-a8f8-f729c6df6dfb",
   "metadata": {},
   "outputs": [
    {
     "name": "stdout",
     "output_type": "stream",
     "text": [
      "sharma\n"
     ]
    }
   ],
   "source": [
    "class student():\n",
    "    def __init__(self,name):\n",
    "        self.name=name\n",
    "obj=student(\"sharma\")\n",
    "print(obj.name)   "
   ]
  },
  {
   "cell_type": "code",
   "execution_count": null,
   "id": "9400415d-fd32-4ba3-864d-8aeb7f21ed2b",
   "metadata": {},
   "outputs": [],
   "source": [
    "4-self is used in Python OOP to refer to the current instance of the class,\n",
    " allowing access to its attributes and methods."
   ]
  },
  {
   "cell_type": "markdown",
   "id": "4f2dd7e3-903b-466a-b44a-119192ac0080",
   "metadata": {},
   "source": [
    "5- Inheritance means accessing the property of one class from another class \n",
    "    "
   ]
  },
  {
   "cell_type": "code",
   "execution_count": 12,
   "id": "15d25adf-9ed5-4894-a8e2-ebf61e3bddab",
   "metadata": {},
   "outputs": [
    {
     "name": "stdout",
     "output_type": "stream",
     "text": [
      "Hello from class 00\n"
     ]
    }
   ],
   "source": [
    "class class00:\n",
    "    def greet(self):\n",
    "        print(\"Hello from class 00\" )\n",
    "class child(class00):\n",
    "    pass\n",
    "obj=child()\n",
    "obj.greet()\n"
   ]
  },
  {
   "cell_type": "code",
   "execution_count": 13,
   "id": "cae54561-0619-4b78-9cfd-c3165eab09e6",
   "metadata": {},
   "outputs": [
    {
     "name": "stdout",
     "output_type": "stream",
     "text": [
      "Hello from class 0\n",
      "Bye from class 1\n"
     ]
    }
   ],
   "source": [
    "class class0:\n",
    "    def greet(self):\n",
    "        print(\"Hello from class 0\" )\n",
    "class class1:        \n",
    "    def bye(self):\n",
    "        print(\"Bye from class 1\" )\n",
    "class child(class0,class1):\n",
    "    pass\n",
    "obj=child()\n",
    "obj.greet()\n",
    "obj.bye()"
   ]
  },
  {
   "cell_type": "code",
   "execution_count": null,
   "id": "5201ff14-b502-4a6a-954a-e3956733b637",
   "metadata": {},
   "outputs": [],
   "source": []
  }
 ],
 "metadata": {
  "kernelspec": {
   "display_name": "Python 3 (ipykernel)",
   "language": "python",
   "name": "python3"
  },
  "language_info": {
   "codemirror_mode": {
    "name": "ipython",
    "version": 3
   },
   "file_extension": ".py",
   "mimetype": "text/x-python",
   "name": "python",
   "nbconvert_exporter": "python",
   "pygments_lexer": "ipython3",
   "version": "3.12.7"
  }
 },
 "nbformat": 4,
 "nbformat_minor": 5
}
