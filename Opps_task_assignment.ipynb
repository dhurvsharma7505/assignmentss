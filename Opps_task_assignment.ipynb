{
 "cells": [
  {
   "cell_type": "markdown",
   "id": "1d37f680-f58c-4f2a-a599-dc96ea32956a",
   "metadata": {},
   "source": [
    "1-"
   ]
  },
  {
   "cell_type": "code",
   "execution_count": 4,
   "id": "ec8ef959-4004-42be-8519-0b4e47e2dc3a",
   "metadata": {},
   "outputs": [
    {
     "data": {
      "text/plain": [
       "('splender', 100, 65)"
      ]
     },
     "execution_count": 4,
     "metadata": {},
     "output_type": "execute_result"
    }
   ],
   "source": [
    "class vehicle:\n",
    "    def __init__(self,name,speed,avg):\n",
    "        self.name_of_vehicle=name\n",
    "        self.max_speed=speed\n",
    "        self.average_of_vehicle=avg\n",
    "    def vehicle_details(self):\n",
    "        return self.name_of_vehicle, self.max_speed,self.average_of_vehicle\n",
    "        \n",
    "vehi=vehicle(\"splender\",100,65) \n",
    "vehi.vehicle_details()\n"
   ]
  },
  {
   "cell_type": "markdown",
   "id": "aa9edd99-da47-4f5e-bf2c-052120e6e7c3",
   "metadata": {},
   "source": [
    "2-"
   ]
  },
  {
   "cell_type": "code",
   "execution_count": 10,
   "id": "b49eb8a6-e75d-4678-a75f-adf0cb7525fa",
   "metadata": {},
   "outputs": [
    {
     "data": {
      "text/plain": [
       "('splender', 100, 65)"
      ]
     },
     "execution_count": 10,
     "metadata": {},
     "output_type": "execute_result"
    }
   ],
   "source": [
    "class child_vehicle(vehicle):\n",
    "    pass\n",
    "child_obj=child_vehicle(\"splender\",100,65)  \n",
    "def seating_capacity(self,capacity):\n",
    "     return self.name_of_vehicle,self.capacity\n",
    "child_obj.vehicle_details()"
   ]
  },
  {
   "cell_type": "markdown",
   "id": "c55d6cc0-35bc-40c0-89a7-80e512621484",
   "metadata": {},
   "source": [
    "3-Multiple inheritance is a feature in object-oriented programming \n",
    "where a class can inherit attributes and methods from more than one parent class."
   ]
  },
  {
   "cell_type": "code",
   "execution_count": 12,
   "id": "96017a54-c234-4947-8637-005432a4cd77",
   "metadata": {},
   "outputs": [
    {
     "name": "stdout",
     "output_type": "stream",
     "text": [
      "Hello from class 0\n",
      "Bye from class 1\n"
     ]
    }
   ],
   "source": [
    "class class0:\n",
    "    def greet(self):\n",
    "        print(\"Hello from class 0\" )\n",
    "class class1:        \n",
    "    def bye(self):\n",
    "        print(\"Bye from class 1\" )\n",
    "class child(class0,class1):\n",
    "    pass\n",
    "obj=child()\n",
    "obj.greet()\n",
    "obj.bye()\n"
   ]
  },
  {
   "cell_type": "markdown",
   "id": "cba521e0-4e32-49c9-8c65-e0c2c01b9a97",
   "metadata": {},
   "source": [
    "4-In Python, getters and setters are methods used to access and modify the values of private or protected attributes in a class.\n",
    "They help in encapsulation — hiding the internal state of an object and allowing controlled access to it."
   ]
  },
  {
   "cell_type": "code",
   "execution_count": 20,
   "id": "9856089b-8881-4f6a-8205-e561471c00d6",
   "metadata": {},
   "outputs": [
    {
     "data": {
      "text/plain": [
       "6396482257"
      ]
     },
     "execution_count": 20,
     "metadata": {},
     "output_type": "execute_result"
    }
   ],
   "source": [
    "class student_details():\n",
    "    def __init__(self,student_mobile_number,student_name):\n",
    "        self.__student_mobile_number=student_mobile_number\n",
    "        self.student_name=student_name\n",
    "    @property\n",
    "    def student_mobile_number_access(self):\n",
    "        return self.__student_mobile_number\n",
    "    @student_mobile_number_access.setter\n",
    "    def student_mobile_number_access(self,number):\n",
    "         self.__student_mobile_number=number \n",
    "        \n",
    "obj=student_details(647845212,\"sandeep maheswari\")\n",
    "obj.student_mobile_number_access\n",
    "obj.student_mobile_number_access=6396482257\n",
    "obj.student_mobile_number_access\n",
    "        "
   ]
  },
  {
   "cell_type": "markdown",
   "id": "20d303d1-07ce-4042-b02a-9d80bad4380b",
   "metadata": {},
   "source": [
    "5-Method overriding in Python is a feature in object-oriented programming\n",
    "where a child class provides a specific implementation of a method that is already defined in its parent class.\n",
    "This allows the child class to modify or extend the behavior of that method."
   ]
  },
  {
   "cell_type": "code",
   "execution_count": 25,
   "id": "95e54ca9-0838-45dd-bb64-1380e634ddcf",
   "metadata": {},
   "outputs": [
    {
     "name": "stdout",
     "output_type": "stream",
     "text": [
      "hii from parent class\n",
      "hii from child class\n"
     ]
    }
   ],
   "source": [
    "class parent():\n",
    "    def show_message(self):\n",
    "        print(\"hii from parent class\")\n",
    "class child(parent):\n",
    "    def show_message(self):\n",
    "        super().show_message()\n",
    "        print(\"hii from child class\")\n",
    "obj=child()\n",
    "obj.show_message()"
   ]
  },
  {
   "cell_type": "code",
   "execution_count": null,
   "id": "f607f007-9fd0-4d31-a518-c95061bec7fc",
   "metadata": {},
   "outputs": [],
   "source": []
  }
 ],
 "metadata": {
  "kernelspec": {
   "display_name": "Python 3 (ipykernel)",
   "language": "python",
   "name": "python3"
  },
  "language_info": {
   "codemirror_mode": {
    "name": "ipython",
    "version": 3
   },
   "file_extension": ".py",
   "mimetype": "text/x-python",
   "name": "python",
   "nbconvert_exporter": "python",
   "pygments_lexer": "ipython3",
   "version": "3.12.7"
  }
 },
 "nbformat": 4,
 "nbformat_minor": 5
}
