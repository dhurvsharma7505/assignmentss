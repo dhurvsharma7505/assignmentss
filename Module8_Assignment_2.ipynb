{
 "cells": [
  {
   "cell_type": "markdown",
   "id": "f0616216-2ab2-4ff0-824b-ecb2e784d831",
   "metadata": {},
   "source": [
    "ANSWERS:\n",
    "1-"
   ]
  },
  {
   "cell_type": "code",
   "execution_count": 19,
   "id": "79f4709f-9dc8-43c3-8bfd-edfd716e44b1",
   "metadata": {},
   "outputs": [
    {
     "name": "stdout",
     "output_type": "stream",
     "text": [
      "('Sachin Tendulkar', 34357)\n"
     ]
    }
   ],
   "source": [
    "from functools import reduce\n",
    "l=[('Sachin Tendulkar', 34357), ('Ricky Ponting', 27483), ('Jack Kallis', 25534), ('Virat Kohli', 24936)]\n",
    "k=reduce(lambda x,y :x if x[1]>y[1] else y,l)\n",
    "print(k)"
   ]
  },
  {
   "cell_type": "markdown",
   "id": "23852b4c-a017-4cb4-b212-d8860507f63b",
   "metadata": {},
   "source": [
    "2-"
   ]
  },
  {
   "cell_type": "code",
   "execution_count": 24,
   "id": "460c0c63-c630-43e5-9a9b-04be720dd3c4",
   "metadata": {},
   "outputs": [
    {
     "name": "stdout",
     "output_type": "stream",
     "text": [
      "[1, 4, 9, 16, 25, 36, 49, 64, 81, 100]\n"
     ]
    }
   ],
   "source": [
    "numbers=[i for i in range(1,11)]\n",
    "k=list(map(lambda x: x**2, numbers))\n",
    "print(k)\n"
   ]
  },
  {
   "cell_type": "markdown",
   "id": "aeea257d-a5df-4c02-b737-59a4c5860eb5",
   "metadata": {},
   "source": [
    "3-"
   ]
  },
  {
   "cell_type": "code",
   "execution_count": 38,
   "id": "09c45489-6525-4ee6-aa61-f10e0dca6f35",
   "metadata": {},
   "outputs": [
    {
     "name": "stdout",
     "output_type": "stream",
     "text": [
      "('1', '2', '3', '4', '5', '6', '7', '8', '9', '10')\n"
     ]
    }
   ],
   "source": [
    "numbers=[i for i in range(1,11)]\n",
    "k=list(map(lambda x: str(x), numbers))\n",
    "l=tuple(k)\n",
    "print(l)"
   ]
  },
  {
   "cell_type": "markdown",
   "id": "64a89cd1-8331-49af-84e7-e21900aed4a3",
   "metadata": {},
   "source": [
    "4-"
   ]
  },
  {
   "cell_type": "code",
   "execution_count": 41,
   "id": "515036de-0ae8-4478-92da-e01dd0e70fbc",
   "metadata": {},
   "outputs": [
    {
     "name": "stdout",
     "output_type": "stream",
     "text": [
      "15511210043330985984000000\n"
     ]
    }
   ],
   "source": [
    "from functools import reduce\n",
    "numbers=[i for i in range(1,26)]\n",
    "k=reduce(lambda x,y: x*y,numbers)\n",
    "print(k)"
   ]
  },
  {
   "cell_type": "markdown",
   "id": "e679b3d2-4947-4497-bfd8-cb3ed81e3553",
   "metadata": {},
   "source": [
    "5-"
   ]
  },
  {
   "cell_type": "code",
   "execution_count": 49,
   "id": "2ae1dd94-65c0-4851-8dc6-9b2a1abe832b",
   "metadata": {},
   "outputs": [
    {
     "name": "stdout",
     "output_type": "stream",
     "text": [
      "[6, 60, 90, 120]\n"
     ]
    }
   ],
   "source": [
    "l=[2, 3, 6, 9, 27, 60, 90, 120, 55, 46]\n",
    "k=list(filter(lambda  x: x%2==0 and x%3==0,l))\n",
    "print(k)"
   ]
  },
  {
   "cell_type": "markdown",
   "id": "18386479-9eab-475e-9b0d-57095c12b042",
   "metadata": {},
   "source": [
    "6-"
   ]
  },
  {
   "cell_type": "code",
   "execution_count": 56,
   "id": "e0b50994-06d2-4886-a264-208cdd1d21ef",
   "metadata": {},
   "outputs": [
    {
     "name": "stdout",
     "output_type": "stream",
     "text": [
      "['php', 'aba', 'radar', 'level']\n"
     ]
    }
   ],
   "source": [
    "l=['python', 'php', 'aba', 'radar', 'level']\n",
    "k=list(filter(lambda  x: x==x[::-1] ,l))\n",
    "print(k)\n"
   ]
  },
  {
   "cell_type": "code",
   "execution_count": null,
   "id": "4dcf53aa-6d80-43cf-8ce6-a4e2e5d3c96b",
   "metadata": {},
   "outputs": [],
   "source": []
  }
 ],
 "metadata": {
  "kernelspec": {
   "display_name": "Python 3 (ipykernel)",
   "language": "python",
   "name": "python3"
  },
  "language_info": {
   "codemirror_mode": {
    "name": "ipython",
    "version": 3
   },
   "file_extension": ".py",
   "mimetype": "text/x-python",
   "name": "python",
   "nbconvert_exporter": "python",
   "pygments_lexer": "ipython3",
   "version": "3.12.7"
  }
 },
 "nbformat": 4,
 "nbformat_minor": 5
}
