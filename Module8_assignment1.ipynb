{
 "cells": [
  {
   "cell_type": "markdown",
   "id": "579a289e-c9e4-4bdd-9d3f-c50a013f0b30",
   "metadata": {},
   "source": [
    "ANSWERS:\n",
    "1-def keyword is used to create a function."
   ]
  },
  {
   "cell_type": "code",
   "execution_count": 18,
   "id": "78a8f5ea-e7d2-44a2-8d5f-b11f1a5ad443",
   "metadata": {},
   "outputs": [],
   "source": [
    "def list_of_odd_numbers():\n",
    "  l=[]\n",
    "  for i in range(1,26):\n",
    "    if i%2!=0:\n",
    "       l.append(i)\n",
    "  return l    "
   ]
  },
  {
   "cell_type": "code",
   "execution_count": 15,
   "id": "fda68a97-65be-4349-87f5-acdce31f1a64",
   "metadata": {},
   "outputs": [
    {
     "name": "stdout",
     "output_type": "stream",
     "text": [
      "[1, 3, 5, 7, 9, 11, 13, 15, 17, 19, 21, 23, 25]\n"
     ]
    }
   ],
   "source": [
    "k=[]\n",
    "k=list_of_odd_numbers()\n",
    "print(k)"
   ]
  },
  {
   "cell_type": "markdown",
   "id": "7aa36255-8ed9-41ad-bb77-24c7686eabdd",
   "metadata": {},
   "source": [
    "2- *args is used to take n multiple arguments inside a function while ** kwargs is to return a dictionary from the function."
   ]
  },
  {
   "cell_type": "code",
   "execution_count": 19,
   "id": "94b5a1e5-4ef3-4c41-9190-788d62713e95",
   "metadata": {},
   "outputs": [
    {
     "data": {
      "text/plain": [
       "(3, 3, 55, 66)"
      ]
     },
     "execution_count": 19,
     "metadata": {},
     "output_type": "execute_result"
    }
   ],
   "source": [
    "def test(*args):\n",
    "    return args\n",
    "test(3,3,55,66)    "
   ]
  },
  {
   "cell_type": "code",
   "execution_count": 24,
   "id": "0505c486-293c-4331-98b0-c61f1b896ba3",
   "metadata": {},
   "outputs": [
    {
     "data": {
      "text/plain": [
       "{}"
      ]
     },
     "execution_count": 24,
     "metadata": {},
     "output_type": "execute_result"
    }
   ],
   "source": [
    "def test1(**kwargs):\n",
    "    return kwargs\n",
    "test1()    "
   ]
  },
  {
   "cell_type": "markdown",
   "id": "d2a10de3-c0c7-4bd2-aac6-0d1d575e4447",
   "metadata": {},
   "source": [
    "3-An iterator is an object in Python that allows  to traverse through all the elements of a collection (like lists, tuples, etc.), one element at a time. iter() used to initialise the iterator object while next() used for iteration. "
   ]
  },
  {
   "cell_type": "code",
   "execution_count": 51,
   "id": "7a669c84-11e5-446b-a6b7-3bd3379e83be",
   "metadata": {},
   "outputs": [
    {
     "name": "stdout",
     "output_type": "stream",
     "text": [
      "2 4 6 8 10 "
     ]
    }
   ],
   "source": [
    "numbers= [2, 4, 6, 8, 10, 12, 14,16, 18, 20]\n",
    "iterator=iter(numbers)\n",
    "for i in range(5):\n",
    "  print(next(iterator),end=' ')\n",
    "\n",
    "\n"
   ]
  },
  {
   "cell_type": "markdown",
   "id": "8d3f0d8d-458a-4537-94a0-545d85dcfe13",
   "metadata": {},
   "source": [
    "4-A generator function in Python is a special type of function that returns an iterator.\n",
    "Unlike regular functions that return a single value,\n",
    "a generator function uses the yield keyword to return a series of values one at a time,\n",
    "pausing between each return.\n",
    "yield allows the function to resume after yielding a value.\n",
    "\n"
   ]
  },
  {
   "cell_type": "code",
   "execution_count": 52,
   "id": "af1b654b-5c54-4d14-891e-af14a9f45676",
   "metadata": {},
   "outputs": [
    {
     "name": "stdout",
     "output_type": "stream",
     "text": [
      "0 1 1 2 3 5 8 13 "
     ]
    }
   ],
   "source": [
    "def fibo(n):\n",
    "    a,b=0,1\n",
    "    for i in range(n):\n",
    "        yield(a)\n",
    "        a,b=b,a+b\n",
    "for i in fibo(8):\n",
    "  print(i,end=' ')\n",
    "    "
   ]
  },
  {
   "cell_type": "markdown",
   "id": "820553b5-fe49-46e5-b864-a228538463bd",
   "metadata": {},
   "source": [
    "5:"
   ]
  },
  {
   "cell_type": "code",
   "execution_count": 55,
   "id": "0c2cced0-48a6-43c4-989e-6994015c1a1a",
   "metadata": {},
   "outputs": [
    {
     "name": "stdout",
     "output_type": "stream",
     "text": [
      "2 3 5 7 11 13 17 19 23 29 31 37 41 43 47 53 59 61 67 71 "
     ]
    }
   ],
   "source": [
    "def check_prime(n):\n",
    "    count=0\n",
    "    for i in range(2,n):\n",
    "        if n%i==0:\n",
    "           count=1\n",
    "           break\n",
    "    if count==0:\n",
    "      return n\n",
    "\n",
    "def prime_num(x):\n",
    "    for i in range(2,x):\n",
    "        if check_prime(i):   # Only yield if it's a prime\n",
    "            yield i\n",
    "prime=prime_num(1000)         \n",
    "for j in range(20):\n",
    "  print(next(prime),end=' ')          \n",
    "           \n"
   ]
  },
  {
   "cell_type": "markdown",
   "id": "ea2ba54c-1bae-4f60-80f5-b30c4f4d438b",
   "metadata": {},
   "source": [
    "6-printing  first 10 fibonacci number using while loop"
   ]
  },
  {
   "cell_type": "code",
   "execution_count": 37,
   "id": "a91fe5cd-9ef4-41fe-800e-528bb145c401",
   "metadata": {},
   "outputs": [
    {
     "name": "stdout",
     "output_type": "stream",
     "text": [
      "0 1 1 2 3 5 8 13 21 34 "
     ]
    }
   ],
   "source": [
    "def fibo(n):\n",
    "    if n==1:\n",
    "      return 0\n",
    "    elif n==2:\n",
    "      return 1\n",
    "    else:\n",
    "      return fibo(n-1)+fibo(n-2)\n",
    "        \n",
    "def fib():\n",
    "    count=1\n",
    "    while count<11:\n",
    "        k=fibo(count)\n",
    "        print(k,end=' ')\n",
    "        count+=1\n",
    "fib()        \n",
    "        "
   ]
  },
  {
   "cell_type": "markdown",
   "id": "3c426ee8-1c6a-4482-8d9d-ee191a9553d7",
   "metadata": {},
   "source": [
    "7-"
   ]
  },
  {
   "cell_type": "code",
   "execution_count": 39,
   "id": "06c6beb5-1559-4a1d-9f5f-3c8c16e1e4aa",
   "metadata": {},
   "outputs": [
    {
     "data": {
      "text/plain": [
       "['P', 'W', 'S', 'K', 'I', 'L', 'L', 'S']"
      ]
     },
     "execution_count": 39,
     "metadata": {},
     "output_type": "execute_result"
    }
   ],
   "source": [
    "s = \"pwskills\"\n",
    "list(map(lambda s:s.upper(),s))\n"
   ]
  },
  {
   "cell_type": "markdown",
   "id": "72cb787a-5271-4eb1-a316-a5d387e9e43c",
   "metadata": {},
   "source": [
    "8-"
   ]
  },
  {
   "cell_type": "code",
   "execution_count": 50,
   "id": "38b28c05-21d4-4414-a444-b3a60f59a62e",
   "metadata": {},
   "outputs": [
    {
     "name": "stdin",
     "output_type": "stream",
     "text": [
      "Enter any number to check whether it is palindrome or not: 151\n"
     ]
    },
    {
     "name": "stdout",
     "output_type": "stream",
     "text": [
      "palindrome\n"
     ]
    }
   ],
   "source": [
    "n=int(input(\"Enter any number to check whether it is palindrome or not:\"))\n",
    "num=n\n",
    "rev=0\n",
    "while num!=0:\n",
    "  x=num%10\n",
    "  rev=(rev*10)+x\n",
    "  num=num//10\n",
    "if rev==n:\n",
    "  print(\"palindrome\")\n",
    "else:\n",
    "  print(\"not palindrome\")"
   ]
  },
  {
   "cell_type": "markdown",
   "id": "44a4474b-18c0-438f-8fac-52e1c88b6c41",
   "metadata": {},
   "source": [
    "9-"
   ]
  },
  {
   "cell_type": "code",
   "execution_count": 14,
   "id": "9565959d-df8b-48d5-903c-a9fd51262891",
   "metadata": {},
   "outputs": [
    {
     "name": "stdout",
     "output_type": "stream",
     "text": [
      "1 3 5 7 9 11 13 15 17 19 21 23 25 27 29 31 33 35 37 39 41 43 45 47 49 51 53 55 57 59 61 63 65 67 69 71 73 75 77 79 81 83 85 87 89 91 93 95 97 99\n"
     ]
    }
   ],
   "source": [
    "numbers=[i for i in range(1,101)]\n",
    "odd_numbers=list(filter(lambda x:x%2!=0,l))\n",
    "print(*odd_numbers)"
   ]
  },
  {
   "cell_type": "code",
   "execution_count": null,
   "id": "4312bbad-1eb6-405d-8fbb-efe3428089fd",
   "metadata": {},
   "outputs": [],
   "source": []
  }
 ],
 "metadata": {
  "kernelspec": {
   "display_name": "Python 3 (ipykernel)",
   "language": "python",
   "name": "python3"
  },
  "language_info": {
   "codemirror_mode": {
    "name": "ipython",
    "version": 3
   },
   "file_extension": ".py",
   "mimetype": "text/x-python",
   "name": "python",
   "nbconvert_exporter": "python",
   "pygments_lexer": "ipython3",
   "version": "3.12.7"
  }
 },
 "nbformat": 4,
 "nbformat_minor": 5
}
